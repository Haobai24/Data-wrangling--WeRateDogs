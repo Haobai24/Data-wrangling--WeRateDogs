{
 "cells": [
  {
   "cell_type": "markdown",
   "metadata": {},
   "source": [
    "## WeRateDogs wrangling report \n",
    "\n",
    "### Introduction\n",
    "\n",
    "In Udacity Wrangling and Analyze Data project. we will analyze the tweet archive of Twitter user @dog_rates, also known as WeRateDogswill.  WeRateDogs is a Twitter account that rates people’s dogs. Each tweet include the dog’s picture, types, comments and its rating. All dog’s rating are overrated with scores higher than 10/10. The datasets will be gathered, assessed and cleaned to give insights and visualizations.\n",
    "\n",
    "\n",
    "\n",
    "### 1. Gathering Data\n",
    "Data was gathered from 3 sources:\n",
    "1. The enhanced twitter file was provided by hand to download manually. This file is then uploaded into workbook to assess each tweet’s id, timestamp, text, rating numerator and denominator, etc.\n",
    "2. The tweet image predictions file was hosted on Udacity’s servers and was downloaded programmatically using the Requests library with given URL.\n",
    "3. The files contain retweet_count and favorte_count were gathered by using Tweepy to query Twitter's API for additional data.\n",
    "\n",
    "### 2. Assessing Data\n",
    "Both visual and programatic assessments were done to point out quality and tidiness issues. Quality issues are content issues that is inaccurate or redundant. Tidiness issues are the structural issues and unorganized data frames. \n",
    "\t\n",
    "\tAssessment Summary\n",
    "\n",
    "Quality Issues\n",
    "   - Tweets that are retweeted because theses tweets are not original.\n",
    "   - Tweets that has no image.\n",
    "   - Fix tweets contains inconsistent capitalization on predicted dog names.\n",
    "   - Incorrected datatypes on tweet-id and timestamp.\n",
    "   - None and inaccurate strings found in name column.\n",
    "   - Incorrected ratings on rating_numerator and rating_denominator.\n",
    "   - High ratings found that do not make sense.\n",
    "   - Rating_numberator and rating_denominator can be converted into one column\n",
    "  \n",
    "Tidiness Issues\n",
    "   - All three files have common tweet_id column, which can be used to join all three files as one dataframe.\n",
    "   - 4 different columns (doggo, floofer, pupper, and puppo) on dog stages should be combine in only one column.\n",
    "   - Drop unnecessary columns that are not useful for analysis.\n",
    "\n",
    "\n",
    "### 3. Cleaning Data\n",
    "Cleaning were performed on every issues found on assessment step. Each issue is fixed following 3 steps:\n",
    "- Define: Explaining the problem and the approach.\n",
    "- Code: The complete code that run to fix the data.\n",
    "- Test: Assess the data again to make sure the code works and fixed the issue.\n",
    "\n",
    "\n",
    "\n",
    "### Conclusion\n",
    "By wrangling the Twitter datasets with many Python libraries with above 3 steps. The datasets became much cleaner. The datasets are now ready to be analyzes to find meaningful insights, then build visualization to summarize the results.\n"
   ]
  },
  {
   "cell_type": "code",
   "execution_count": null,
   "metadata": {},
   "outputs": [],
   "source": []
  }
 ],
 "metadata": {
  "kernelspec": {
   "display_name": "Python 3",
   "language": "python",
   "name": "python3"
  },
  "language_info": {
   "codemirror_mode": {
    "name": "ipython",
    "version": 3
   },
   "file_extension": ".py",
   "mimetype": "text/x-python",
   "name": "python",
   "nbconvert_exporter": "python",
   "pygments_lexer": "ipython3",
   "version": "3.6.3"
  }
 },
 "nbformat": 4,
 "nbformat_minor": 2
}
